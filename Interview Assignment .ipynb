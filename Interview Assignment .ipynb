{
 "cells": [
  {
   "cell_type": "code",
   "execution_count": 1,
   "id": "49ada86a",
   "metadata": {},
   "outputs": [],
   "source": [
    "#Importing packages\n",
    "import pandas as pd\n",
    "import numpy as np\n",
    "import matplotlib.pyplot as plt\n",
    "import seaborn as sns\n",
    "from sklearn.model_selection import train_test_split\n",
    "from sklearn.tree import DecisionTreeClassifier\n",
    "from sklearn.neighbors import KNeighborsClassifier\n",
    "from sklearn.naive_bayes import GaussianNB\n",
    "from sklearn.model_selection import GridSearchCV\n",
    "from sklearn.ensemble import RandomForestClassifier\n",
    "from sklearn.preprocessing import StandardScaler\n",
    "from sklearn.model_selection import GridSearchCV\n",
    "from xgboost import XGBClassifier\n",
    "from sklearn.linear_model import LogisticRegression\n",
    "from sklearn.feature_selection import mutual_info_classif\n",
    "from sklearn.metrics import roc_auc_score,classification_report,confusion_matrix,log_loss  \n",
    "import warnings \n",
    "warnings.filterwarnings('ignore')"
   ]
  },
  {
   "cell_type": "code",
   "execution_count": 2,
   "id": "9c056a78",
   "metadata": {},
   "outputs": [],
   "source": [
    "#Loading the data set\n",
    "df_train= pd.read_csv(\"C:/Users/Siri/Downloads/Arya_DataScientist_Assignment/training_set.csv\")\n",
    "df_test= pd.read_csv(\"C:/Users/Siri/Downloads/Arya_DataScientist_Assignment/test_set.csv\")"
   ]
  },
  {
   "cell_type": "code",
   "execution_count": 3,
   "id": "3fec123b",
   "metadata": {},
   "outputs": [
    {
     "data": {
      "text/plain": [
       "(3910, 59)"
      ]
     },
     "execution_count": 3,
     "metadata": {},
     "output_type": "execute_result"
    }
   ],
   "source": [
    "df_train.shape"
   ]
  },
  {
   "cell_type": "code",
   "execution_count": 4,
   "id": "17892ca8",
   "metadata": {},
   "outputs": [
    {
     "data": {
      "text/plain": [
       "(691, 58)"
      ]
     },
     "execution_count": 4,
     "metadata": {},
     "output_type": "execute_result"
    }
   ],
   "source": [
    "df_test.shape"
   ]
  },
  {
   "cell_type": "markdown",
   "id": "e0dc2399",
   "metadata": {},
   "source": [
    "- Here the shape of train and test sets are (3910,59) and (691,58)"
   ]
  },
  {
   "cell_type": "code",
   "execution_count": 5,
   "id": "f9ecc52f",
   "metadata": {},
   "outputs": [
    {
     "data": {
      "text/html": [
       "<div>\n",
       "<style scoped>\n",
       "    .dataframe tbody tr th:only-of-type {\n",
       "        vertical-align: middle;\n",
       "    }\n",
       "\n",
       "    .dataframe tbody tr th {\n",
       "        vertical-align: top;\n",
       "    }\n",
       "\n",
       "    .dataframe thead th {\n",
       "        text-align: right;\n",
       "    }\n",
       "</style>\n",
       "<table border=\"1\" class=\"dataframe\">\n",
       "  <thead>\n",
       "    <tr style=\"text-align: right;\">\n",
       "      <th></th>\n",
       "      <th>Unnamed: 0</th>\n",
       "      <th>X1</th>\n",
       "      <th>X2</th>\n",
       "      <th>X3</th>\n",
       "      <th>X4</th>\n",
       "      <th>X5</th>\n",
       "      <th>X6</th>\n",
       "      <th>X7</th>\n",
       "      <th>X8</th>\n",
       "      <th>X9</th>\n",
       "      <th>...</th>\n",
       "      <th>X49</th>\n",
       "      <th>X50</th>\n",
       "      <th>X51</th>\n",
       "      <th>X52</th>\n",
       "      <th>X53</th>\n",
       "      <th>X54</th>\n",
       "      <th>X55</th>\n",
       "      <th>X56</th>\n",
       "      <th>X57</th>\n",
       "      <th>Y</th>\n",
       "    </tr>\n",
       "  </thead>\n",
       "  <tbody>\n",
       "    <tr>\n",
       "      <th>0</th>\n",
       "      <td>0</td>\n",
       "      <td>0.00</td>\n",
       "      <td>0.00</td>\n",
       "      <td>4.34</td>\n",
       "      <td>0.00</td>\n",
       "      <td>0.00</td>\n",
       "      <td>0.00</td>\n",
       "      <td>0.00</td>\n",
       "      <td>0.00</td>\n",
       "      <td>0.0</td>\n",
       "      <td>...</td>\n",
       "      <td>0.0</td>\n",
       "      <td>0.000</td>\n",
       "      <td>0.0</td>\n",
       "      <td>1.342</td>\n",
       "      <td>0.000</td>\n",
       "      <td>0.000</td>\n",
       "      <td>1.200</td>\n",
       "      <td>2</td>\n",
       "      <td>12</td>\n",
       "      <td>0</td>\n",
       "    </tr>\n",
       "    <tr>\n",
       "      <th>1</th>\n",
       "      <td>1</td>\n",
       "      <td>0.00</td>\n",
       "      <td>0.56</td>\n",
       "      <td>0.56</td>\n",
       "      <td>0.00</td>\n",
       "      <td>1.12</td>\n",
       "      <td>0.56</td>\n",
       "      <td>2.25</td>\n",
       "      <td>0.00</td>\n",
       "      <td>0.0</td>\n",
       "      <td>...</td>\n",
       "      <td>0.0</td>\n",
       "      <td>0.083</td>\n",
       "      <td>0.0</td>\n",
       "      <td>0.503</td>\n",
       "      <td>0.000</td>\n",
       "      <td>0.083</td>\n",
       "      <td>16.304</td>\n",
       "      <td>148</td>\n",
       "      <td>375</td>\n",
       "      <td>1</td>\n",
       "    </tr>\n",
       "    <tr>\n",
       "      <th>2</th>\n",
       "      <td>2</td>\n",
       "      <td>0.00</td>\n",
       "      <td>0.00</td>\n",
       "      <td>0.00</td>\n",
       "      <td>0.00</td>\n",
       "      <td>0.00</td>\n",
       "      <td>0.00</td>\n",
       "      <td>0.00</td>\n",
       "      <td>0.00</td>\n",
       "      <td>0.0</td>\n",
       "      <td>...</td>\n",
       "      <td>0.0</td>\n",
       "      <td>0.000</td>\n",
       "      <td>0.0</td>\n",
       "      <td>0.000</td>\n",
       "      <td>0.000</td>\n",
       "      <td>0.000</td>\n",
       "      <td>1.000</td>\n",
       "      <td>1</td>\n",
       "      <td>5</td>\n",
       "      <td>0</td>\n",
       "    </tr>\n",
       "    <tr>\n",
       "      <th>3</th>\n",
       "      <td>3</td>\n",
       "      <td>0.64</td>\n",
       "      <td>0.00</td>\n",
       "      <td>0.64</td>\n",
       "      <td>0.00</td>\n",
       "      <td>1.93</td>\n",
       "      <td>0.00</td>\n",
       "      <td>0.00</td>\n",
       "      <td>0.00</td>\n",
       "      <td>0.0</td>\n",
       "      <td>...</td>\n",
       "      <td>0.0</td>\n",
       "      <td>0.000</td>\n",
       "      <td>0.0</td>\n",
       "      <td>0.462</td>\n",
       "      <td>0.370</td>\n",
       "      <td>0.000</td>\n",
       "      <td>2.440</td>\n",
       "      <td>22</td>\n",
       "      <td>122</td>\n",
       "      <td>1</td>\n",
       "    </tr>\n",
       "    <tr>\n",
       "      <th>4</th>\n",
       "      <td>4</td>\n",
       "      <td>0.58</td>\n",
       "      <td>0.00</td>\n",
       "      <td>0.00</td>\n",
       "      <td>35.46</td>\n",
       "      <td>0.58</td>\n",
       "      <td>0.00</td>\n",
       "      <td>0.58</td>\n",
       "      <td>0.58</td>\n",
       "      <td>0.0</td>\n",
       "      <td>...</td>\n",
       "      <td>0.0</td>\n",
       "      <td>0.000</td>\n",
       "      <td>0.0</td>\n",
       "      <td>0.239</td>\n",
       "      <td>0.239</td>\n",
       "      <td>0.000</td>\n",
       "      <td>3.338</td>\n",
       "      <td>123</td>\n",
       "      <td>207</td>\n",
       "      <td>1</td>\n",
       "    </tr>\n",
       "  </tbody>\n",
       "</table>\n",
       "<p>5 rows × 59 columns</p>\n",
       "</div>"
      ],
      "text/plain": [
       "   Unnamed: 0    X1    X2    X3     X4    X5    X6    X7    X8   X9  ...  X49  \\\n",
       "0           0  0.00  0.00  4.34   0.00  0.00  0.00  0.00  0.00  0.0  ...  0.0   \n",
       "1           1  0.00  0.56  0.56   0.00  1.12  0.56  2.25  0.00  0.0  ...  0.0   \n",
       "2           2  0.00  0.00  0.00   0.00  0.00  0.00  0.00  0.00  0.0  ...  0.0   \n",
       "3           3  0.64  0.00  0.64   0.00  1.93  0.00  0.00  0.00  0.0  ...  0.0   \n",
       "4           4  0.58  0.00  0.00  35.46  0.58  0.00  0.58  0.58  0.0  ...  0.0   \n",
       "\n",
       "     X50  X51    X52    X53    X54     X55  X56  X57  Y  \n",
       "0  0.000  0.0  1.342  0.000  0.000   1.200    2   12  0  \n",
       "1  0.083  0.0  0.503  0.000  0.083  16.304  148  375  1  \n",
       "2  0.000  0.0  0.000  0.000  0.000   1.000    1    5  0  \n",
       "3  0.000  0.0  0.462  0.370  0.000   2.440   22  122  1  \n",
       "4  0.000  0.0  0.239  0.239  0.000   3.338  123  207  1  \n",
       "\n",
       "[5 rows x 59 columns]"
      ]
     },
     "execution_count": 5,
     "metadata": {},
     "output_type": "execute_result"
    }
   ],
   "source": [
    "df_train.head()"
   ]
  },
  {
   "cell_type": "code",
   "execution_count": 6,
   "id": "948cf6d9",
   "metadata": {},
   "outputs": [
    {
     "data": {
      "text/html": [
       "<div>\n",
       "<style scoped>\n",
       "    .dataframe tbody tr th:only-of-type {\n",
       "        vertical-align: middle;\n",
       "    }\n",
       "\n",
       "    .dataframe tbody tr th {\n",
       "        vertical-align: top;\n",
       "    }\n",
       "\n",
       "    .dataframe thead th {\n",
       "        text-align: right;\n",
       "    }\n",
       "</style>\n",
       "<table border=\"1\" class=\"dataframe\">\n",
       "  <thead>\n",
       "    <tr style=\"text-align: right;\">\n",
       "      <th></th>\n",
       "      <th>Unnamed: 0</th>\n",
       "      <th>X1</th>\n",
       "      <th>X2</th>\n",
       "      <th>X3</th>\n",
       "      <th>X4</th>\n",
       "      <th>X5</th>\n",
       "      <th>X6</th>\n",
       "      <th>X7</th>\n",
       "      <th>X8</th>\n",
       "      <th>X9</th>\n",
       "      <th>...</th>\n",
       "      <th>X49</th>\n",
       "      <th>X50</th>\n",
       "      <th>X51</th>\n",
       "      <th>X52</th>\n",
       "      <th>X53</th>\n",
       "      <th>X54</th>\n",
       "      <th>X55</th>\n",
       "      <th>X56</th>\n",
       "      <th>X57</th>\n",
       "      <th>Y</th>\n",
       "    </tr>\n",
       "  </thead>\n",
       "  <tbody>\n",
       "    <tr>\n",
       "      <th>count</th>\n",
       "      <td>3910.000000</td>\n",
       "      <td>3910.000000</td>\n",
       "      <td>3910.000000</td>\n",
       "      <td>3910.000000</td>\n",
       "      <td>3910.000000</td>\n",
       "      <td>3910.000000</td>\n",
       "      <td>3910.000000</td>\n",
       "      <td>3910.000000</td>\n",
       "      <td>3910.000000</td>\n",
       "      <td>3910.000000</td>\n",
       "      <td>...</td>\n",
       "      <td>3910.000000</td>\n",
       "      <td>3910.000000</td>\n",
       "      <td>3910.000000</td>\n",
       "      <td>3910.000000</td>\n",
       "      <td>3910.000000</td>\n",
       "      <td>3910.000000</td>\n",
       "      <td>3910.000000</td>\n",
       "      <td>3910.000000</td>\n",
       "      <td>3910.000000</td>\n",
       "      <td>3910.000000</td>\n",
       "    </tr>\n",
       "    <tr>\n",
       "      <th>mean</th>\n",
       "      <td>1954.500000</td>\n",
       "      <td>0.102990</td>\n",
       "      <td>0.206419</td>\n",
       "      <td>0.284419</td>\n",
       "      <td>0.062074</td>\n",
       "      <td>0.311309</td>\n",
       "      <td>0.095974</td>\n",
       "      <td>0.112320</td>\n",
       "      <td>0.106041</td>\n",
       "      <td>0.091146</td>\n",
       "      <td>...</td>\n",
       "      <td>0.037493</td>\n",
       "      <td>0.139252</td>\n",
       "      <td>0.015876</td>\n",
       "      <td>0.272971</td>\n",
       "      <td>0.077820</td>\n",
       "      <td>0.043828</td>\n",
       "      <td>5.047150</td>\n",
       "      <td>52.338107</td>\n",
       "      <td>283.059079</td>\n",
       "      <td>0.392327</td>\n",
       "    </tr>\n",
       "    <tr>\n",
       "      <th>std</th>\n",
       "      <td>1128.864105</td>\n",
       "      <td>0.296322</td>\n",
       "      <td>1.253828</td>\n",
       "      <td>0.504352</td>\n",
       "      <td>1.369361</td>\n",
       "      <td>0.656195</td>\n",
       "      <td>0.261455</td>\n",
       "      <td>0.389516</td>\n",
       "      <td>0.398694</td>\n",
       "      <td>0.271417</td>\n",
       "      <td>...</td>\n",
       "      <td>0.235054</td>\n",
       "      <td>0.276309</td>\n",
       "      <td>0.083600</td>\n",
       "      <td>0.858634</td>\n",
       "      <td>0.256991</td>\n",
       "      <td>0.452862</td>\n",
       "      <td>31.397035</td>\n",
       "      <td>204.445218</td>\n",
       "      <td>578.339858</td>\n",
       "      <td>0.488331</td>\n",
       "    </tr>\n",
       "    <tr>\n",
       "      <th>min</th>\n",
       "      <td>0.000000</td>\n",
       "      <td>0.000000</td>\n",
       "      <td>0.000000</td>\n",
       "      <td>0.000000</td>\n",
       "      <td>0.000000</td>\n",
       "      <td>0.000000</td>\n",
       "      <td>0.000000</td>\n",
       "      <td>0.000000</td>\n",
       "      <td>0.000000</td>\n",
       "      <td>0.000000</td>\n",
       "      <td>...</td>\n",
       "      <td>0.000000</td>\n",
       "      <td>0.000000</td>\n",
       "      <td>0.000000</td>\n",
       "      <td>0.000000</td>\n",
       "      <td>0.000000</td>\n",
       "      <td>0.000000</td>\n",
       "      <td>1.000000</td>\n",
       "      <td>1.000000</td>\n",
       "      <td>1.000000</td>\n",
       "      <td>0.000000</td>\n",
       "    </tr>\n",
       "    <tr>\n",
       "      <th>25%</th>\n",
       "      <td>977.250000</td>\n",
       "      <td>0.000000</td>\n",
       "      <td>0.000000</td>\n",
       "      <td>0.000000</td>\n",
       "      <td>0.000000</td>\n",
       "      <td>0.000000</td>\n",
       "      <td>0.000000</td>\n",
       "      <td>0.000000</td>\n",
       "      <td>0.000000</td>\n",
       "      <td>0.000000</td>\n",
       "      <td>...</td>\n",
       "      <td>0.000000</td>\n",
       "      <td>0.000000</td>\n",
       "      <td>0.000000</td>\n",
       "      <td>0.000000</td>\n",
       "      <td>0.000000</td>\n",
       "      <td>0.000000</td>\n",
       "      <td>1.580750</td>\n",
       "      <td>6.000000</td>\n",
       "      <td>35.000000</td>\n",
       "      <td>0.000000</td>\n",
       "    </tr>\n",
       "    <tr>\n",
       "      <th>50%</th>\n",
       "      <td>1954.500000</td>\n",
       "      <td>0.000000</td>\n",
       "      <td>0.000000</td>\n",
       "      <td>0.000000</td>\n",
       "      <td>0.000000</td>\n",
       "      <td>0.000000</td>\n",
       "      <td>0.000000</td>\n",
       "      <td>0.000000</td>\n",
       "      <td>0.000000</td>\n",
       "      <td>0.000000</td>\n",
       "      <td>...</td>\n",
       "      <td>0.000000</td>\n",
       "      <td>0.066000</td>\n",
       "      <td>0.000000</td>\n",
       "      <td>0.000000</td>\n",
       "      <td>0.000000</td>\n",
       "      <td>0.000000</td>\n",
       "      <td>2.263500</td>\n",
       "      <td>15.000000</td>\n",
       "      <td>94.000000</td>\n",
       "      <td>0.000000</td>\n",
       "    </tr>\n",
       "    <tr>\n",
       "      <th>75%</th>\n",
       "      <td>2931.750000</td>\n",
       "      <td>0.000000</td>\n",
       "      <td>0.000000</td>\n",
       "      <td>0.430000</td>\n",
       "      <td>0.000000</td>\n",
       "      <td>0.387500</td>\n",
       "      <td>0.000000</td>\n",
       "      <td>0.000000</td>\n",
       "      <td>0.000000</td>\n",
       "      <td>0.000000</td>\n",
       "      <td>...</td>\n",
       "      <td>0.000000</td>\n",
       "      <td>0.188000</td>\n",
       "      <td>0.000000</td>\n",
       "      <td>0.317250</td>\n",
       "      <td>0.054000</td>\n",
       "      <td>0.000000</td>\n",
       "      <td>3.714000</td>\n",
       "      <td>43.000000</td>\n",
       "      <td>264.000000</td>\n",
       "      <td>1.000000</td>\n",
       "    </tr>\n",
       "    <tr>\n",
       "      <th>max</th>\n",
       "      <td>3909.000000</td>\n",
       "      <td>4.340000</td>\n",
       "      <td>14.280000</td>\n",
       "      <td>4.540000</td>\n",
       "      <td>42.810000</td>\n",
       "      <td>9.090000</td>\n",
       "      <td>3.570000</td>\n",
       "      <td>7.270000</td>\n",
       "      <td>11.110000</td>\n",
       "      <td>3.230000</td>\n",
       "      <td>...</td>\n",
       "      <td>4.385000</td>\n",
       "      <td>9.752000</td>\n",
       "      <td>2.777000</td>\n",
       "      <td>32.478000</td>\n",
       "      <td>6.003000</td>\n",
       "      <td>19.829000</td>\n",
       "      <td>1102.500000</td>\n",
       "      <td>9989.000000</td>\n",
       "      <td>10062.000000</td>\n",
       "      <td>1.000000</td>\n",
       "    </tr>\n",
       "  </tbody>\n",
       "</table>\n",
       "<p>8 rows × 59 columns</p>\n",
       "</div>"
      ],
      "text/plain": [
       "        Unnamed: 0           X1           X2           X3           X4  \\\n",
       "count  3910.000000  3910.000000  3910.000000  3910.000000  3910.000000   \n",
       "mean   1954.500000     0.102990     0.206419     0.284419     0.062074   \n",
       "std    1128.864105     0.296322     1.253828     0.504352     1.369361   \n",
       "min       0.000000     0.000000     0.000000     0.000000     0.000000   \n",
       "25%     977.250000     0.000000     0.000000     0.000000     0.000000   \n",
       "50%    1954.500000     0.000000     0.000000     0.000000     0.000000   \n",
       "75%    2931.750000     0.000000     0.000000     0.430000     0.000000   \n",
       "max    3909.000000     4.340000    14.280000     4.540000    42.810000   \n",
       "\n",
       "                X5           X6           X7           X8           X9  ...  \\\n",
       "count  3910.000000  3910.000000  3910.000000  3910.000000  3910.000000  ...   \n",
       "mean      0.311309     0.095974     0.112320     0.106041     0.091146  ...   \n",
       "std       0.656195     0.261455     0.389516     0.398694     0.271417  ...   \n",
       "min       0.000000     0.000000     0.000000     0.000000     0.000000  ...   \n",
       "25%       0.000000     0.000000     0.000000     0.000000     0.000000  ...   \n",
       "50%       0.000000     0.000000     0.000000     0.000000     0.000000  ...   \n",
       "75%       0.387500     0.000000     0.000000     0.000000     0.000000  ...   \n",
       "max       9.090000     3.570000     7.270000    11.110000     3.230000  ...   \n",
       "\n",
       "               X49          X50          X51          X52          X53  \\\n",
       "count  3910.000000  3910.000000  3910.000000  3910.000000  3910.000000   \n",
       "mean      0.037493     0.139252     0.015876     0.272971     0.077820   \n",
       "std       0.235054     0.276309     0.083600     0.858634     0.256991   \n",
       "min       0.000000     0.000000     0.000000     0.000000     0.000000   \n",
       "25%       0.000000     0.000000     0.000000     0.000000     0.000000   \n",
       "50%       0.000000     0.066000     0.000000     0.000000     0.000000   \n",
       "75%       0.000000     0.188000     0.000000     0.317250     0.054000   \n",
       "max       4.385000     9.752000     2.777000    32.478000     6.003000   \n",
       "\n",
       "               X54          X55          X56           X57            Y  \n",
       "count  3910.000000  3910.000000  3910.000000   3910.000000  3910.000000  \n",
       "mean      0.043828     5.047150    52.338107    283.059079     0.392327  \n",
       "std       0.452862    31.397035   204.445218    578.339858     0.488331  \n",
       "min       0.000000     1.000000     1.000000      1.000000     0.000000  \n",
       "25%       0.000000     1.580750     6.000000     35.000000     0.000000  \n",
       "50%       0.000000     2.263500    15.000000     94.000000     0.000000  \n",
       "75%       0.000000     3.714000    43.000000    264.000000     1.000000  \n",
       "max      19.829000  1102.500000  9989.000000  10062.000000     1.000000  \n",
       "\n",
       "[8 rows x 59 columns]"
      ]
     },
     "execution_count": 6,
     "metadata": {},
     "output_type": "execute_result"
    }
   ],
   "source": [
    "df_train.describe()"
   ]
  },
  {
   "cell_type": "code",
   "execution_count": 7,
   "id": "8045f787",
   "metadata": {},
   "outputs": [
    {
     "name": "stdout",
     "output_type": "stream",
     "text": [
      "<class 'pandas.core.frame.DataFrame'>\n",
      "RangeIndex: 3910 entries, 0 to 3909\n",
      "Data columns (total 59 columns):\n",
      " #   Column      Non-Null Count  Dtype  \n",
      "---  ------      --------------  -----  \n",
      " 0   Unnamed: 0  3910 non-null   int64  \n",
      " 1   X1          3910 non-null   float64\n",
      " 2   X2          3910 non-null   float64\n",
      " 3   X3          3910 non-null   float64\n",
      " 4   X4          3910 non-null   float64\n",
      " 5   X5          3910 non-null   float64\n",
      " 6   X6          3910 non-null   float64\n",
      " 7   X7          3910 non-null   float64\n",
      " 8   X8          3910 non-null   float64\n",
      " 9   X9          3910 non-null   float64\n",
      " 10  X10         3910 non-null   float64\n",
      " 11  X11         3910 non-null   float64\n",
      " 12  X12         3910 non-null   float64\n",
      " 13  X13         3910 non-null   float64\n",
      " 14  X14         3910 non-null   float64\n",
      " 15  X15         3910 non-null   float64\n",
      " 16  X16         3910 non-null   float64\n",
      " 17  X17         3910 non-null   float64\n",
      " 18  X18         3910 non-null   float64\n",
      " 19  X19         3910 non-null   float64\n",
      " 20  X20         3910 non-null   float64\n",
      " 21  X21         3910 non-null   float64\n",
      " 22  X22         3910 non-null   float64\n",
      " 23  X23         3910 non-null   float64\n",
      " 24  X24         3910 non-null   float64\n",
      " 25  X25         3910 non-null   float64\n",
      " 26  X26         3910 non-null   float64\n",
      " 27  X27         3910 non-null   float64\n",
      " 28  X28         3910 non-null   float64\n",
      " 29  X29         3910 non-null   float64\n",
      " 30  X30         3910 non-null   float64\n",
      " 31  X31         3910 non-null   float64\n",
      " 32  X32         3910 non-null   float64\n",
      " 33  X33         3910 non-null   float64\n",
      " 34  X34         3910 non-null   float64\n",
      " 35  X35         3910 non-null   float64\n",
      " 36  X36         3910 non-null   float64\n",
      " 37  X37         3910 non-null   float64\n",
      " 38  X38         3910 non-null   float64\n",
      " 39  X39         3910 non-null   float64\n",
      " 40  X40         3910 non-null   float64\n",
      " 41  X41         3910 non-null   float64\n",
      " 42  X42         3910 non-null   float64\n",
      " 43  X43         3910 non-null   float64\n",
      " 44  X44         3910 non-null   float64\n",
      " 45  X45         3910 non-null   float64\n",
      " 46  X46         3910 non-null   float64\n",
      " 47  X47         3910 non-null   float64\n",
      " 48  X48         3910 non-null   float64\n",
      " 49  X49         3910 non-null   float64\n",
      " 50  X50         3910 non-null   float64\n",
      " 51  X51         3910 non-null   float64\n",
      " 52  X52         3910 non-null   float64\n",
      " 53  X53         3910 non-null   float64\n",
      " 54  X54         3910 non-null   float64\n",
      " 55  X55         3910 non-null   float64\n",
      " 56  X56         3910 non-null   int64  \n",
      " 57  X57         3910 non-null   int64  \n",
      " 58  Y           3910 non-null   int64  \n",
      "dtypes: float64(55), int64(4)\n",
      "memory usage: 1.8 MB\n"
     ]
    }
   ],
   "source": [
    "df_train.info()"
   ]
  },
  {
   "cell_type": "code",
   "execution_count": 8,
   "id": "a0868b43",
   "metadata": {},
   "outputs": [
    {
     "data": {
      "text/plain": [
       "0    2376\n",
       "1    1534\n",
       "Name: Y, dtype: int64"
      ]
     },
     "execution_count": 8,
     "metadata": {},
     "output_type": "execute_result"
    }
   ],
   "source": [
    "df_train['Y'].value_counts()"
   ]
  },
  {
   "cell_type": "code",
   "execution_count": 9,
   "id": "6f8b6cef",
   "metadata": {},
   "outputs": [
    {
     "data": {
      "text/plain": [
       "0    0.607673\n",
       "1    0.392327\n",
       "Name: Y, dtype: float64"
      ]
     },
     "execution_count": 9,
     "metadata": {},
     "output_type": "execute_result"
    }
   ],
   "source": [
    "df_train['Y'].value_counts(normalize=True)"
   ]
  },
  {
   "cell_type": "markdown",
   "id": "f10b42c3",
   "metadata": {},
   "source": [
    "The number of 0's are 60% and 1's are 40% available in the data. "
   ]
  },
  {
   "cell_type": "code",
   "execution_count": 10,
   "id": "e34f6287",
   "metadata": {},
   "outputs": [],
   "source": [
    "df_train = df_train.drop(['Unnamed: 0'], axis = 1)"
   ]
  },
  {
   "cell_type": "code",
   "execution_count": 11,
   "id": "555ff1f3",
   "metadata": {},
   "outputs": [
    {
     "data": {
      "text/html": [
       "<div>\n",
       "<style scoped>\n",
       "    .dataframe tbody tr th:only-of-type {\n",
       "        vertical-align: middle;\n",
       "    }\n",
       "\n",
       "    .dataframe tbody tr th {\n",
       "        vertical-align: top;\n",
       "    }\n",
       "\n",
       "    .dataframe thead th {\n",
       "        text-align: right;\n",
       "    }\n",
       "</style>\n",
       "<table border=\"1\" class=\"dataframe\">\n",
       "  <thead>\n",
       "    <tr style=\"text-align: right;\">\n",
       "      <th></th>\n",
       "      <th>X1</th>\n",
       "      <th>X2</th>\n",
       "      <th>X3</th>\n",
       "      <th>X4</th>\n",
       "      <th>X5</th>\n",
       "      <th>X6</th>\n",
       "      <th>X7</th>\n",
       "      <th>X8</th>\n",
       "      <th>X9</th>\n",
       "      <th>X10</th>\n",
       "      <th>...</th>\n",
       "      <th>X49</th>\n",
       "      <th>X50</th>\n",
       "      <th>X51</th>\n",
       "      <th>X52</th>\n",
       "      <th>X53</th>\n",
       "      <th>X54</th>\n",
       "      <th>X55</th>\n",
       "      <th>X56</th>\n",
       "      <th>X57</th>\n",
       "      <th>Y</th>\n",
       "    </tr>\n",
       "  </thead>\n",
       "  <tbody>\n",
       "    <tr>\n",
       "      <th>0</th>\n",
       "      <td>0.00</td>\n",
       "      <td>0.00</td>\n",
       "      <td>4.34</td>\n",
       "      <td>0.00</td>\n",
       "      <td>0.00</td>\n",
       "      <td>0.00</td>\n",
       "      <td>0.00</td>\n",
       "      <td>0.00</td>\n",
       "      <td>0.00</td>\n",
       "      <td>0.00</td>\n",
       "      <td>...</td>\n",
       "      <td>0.0</td>\n",
       "      <td>0.000</td>\n",
       "      <td>0.0</td>\n",
       "      <td>1.342</td>\n",
       "      <td>0.000</td>\n",
       "      <td>0.000</td>\n",
       "      <td>1.200</td>\n",
       "      <td>2</td>\n",
       "      <td>12</td>\n",
       "      <td>0</td>\n",
       "    </tr>\n",
       "    <tr>\n",
       "      <th>1</th>\n",
       "      <td>0.00</td>\n",
       "      <td>0.56</td>\n",
       "      <td>0.56</td>\n",
       "      <td>0.00</td>\n",
       "      <td>1.12</td>\n",
       "      <td>0.56</td>\n",
       "      <td>2.25</td>\n",
       "      <td>0.00</td>\n",
       "      <td>0.00</td>\n",
       "      <td>0.56</td>\n",
       "      <td>...</td>\n",
       "      <td>0.0</td>\n",
       "      <td>0.083</td>\n",
       "      <td>0.0</td>\n",
       "      <td>0.503</td>\n",
       "      <td>0.000</td>\n",
       "      <td>0.083</td>\n",
       "      <td>16.304</td>\n",
       "      <td>148</td>\n",
       "      <td>375</td>\n",
       "      <td>1</td>\n",
       "    </tr>\n",
       "    <tr>\n",
       "      <th>2</th>\n",
       "      <td>0.00</td>\n",
       "      <td>0.00</td>\n",
       "      <td>0.00</td>\n",
       "      <td>0.00</td>\n",
       "      <td>0.00</td>\n",
       "      <td>0.00</td>\n",
       "      <td>0.00</td>\n",
       "      <td>0.00</td>\n",
       "      <td>0.00</td>\n",
       "      <td>0.00</td>\n",
       "      <td>...</td>\n",
       "      <td>0.0</td>\n",
       "      <td>0.000</td>\n",
       "      <td>0.0</td>\n",
       "      <td>0.000</td>\n",
       "      <td>0.000</td>\n",
       "      <td>0.000</td>\n",
       "      <td>1.000</td>\n",
       "      <td>1</td>\n",
       "      <td>5</td>\n",
       "      <td>0</td>\n",
       "    </tr>\n",
       "    <tr>\n",
       "      <th>3</th>\n",
       "      <td>0.64</td>\n",
       "      <td>0.00</td>\n",
       "      <td>0.64</td>\n",
       "      <td>0.00</td>\n",
       "      <td>1.93</td>\n",
       "      <td>0.00</td>\n",
       "      <td>0.00</td>\n",
       "      <td>0.00</td>\n",
       "      <td>0.00</td>\n",
       "      <td>0.00</td>\n",
       "      <td>...</td>\n",
       "      <td>0.0</td>\n",
       "      <td>0.000</td>\n",
       "      <td>0.0</td>\n",
       "      <td>0.462</td>\n",
       "      <td>0.370</td>\n",
       "      <td>0.000</td>\n",
       "      <td>2.440</td>\n",
       "      <td>22</td>\n",
       "      <td>122</td>\n",
       "      <td>1</td>\n",
       "    </tr>\n",
       "    <tr>\n",
       "      <th>4</th>\n",
       "      <td>0.58</td>\n",
       "      <td>0.00</td>\n",
       "      <td>0.00</td>\n",
       "      <td>35.46</td>\n",
       "      <td>0.58</td>\n",
       "      <td>0.00</td>\n",
       "      <td>0.58</td>\n",
       "      <td>0.58</td>\n",
       "      <td>0.00</td>\n",
       "      <td>0.00</td>\n",
       "      <td>...</td>\n",
       "      <td>0.0</td>\n",
       "      <td>0.000</td>\n",
       "      <td>0.0</td>\n",
       "      <td>0.239</td>\n",
       "      <td>0.239</td>\n",
       "      <td>0.000</td>\n",
       "      <td>3.338</td>\n",
       "      <td>123</td>\n",
       "      <td>207</td>\n",
       "      <td>1</td>\n",
       "    </tr>\n",
       "    <tr>\n",
       "      <th>...</th>\n",
       "      <td>...</td>\n",
       "      <td>...</td>\n",
       "      <td>...</td>\n",
       "      <td>...</td>\n",
       "      <td>...</td>\n",
       "      <td>...</td>\n",
       "      <td>...</td>\n",
       "      <td>...</td>\n",
       "      <td>...</td>\n",
       "      <td>...</td>\n",
       "      <td>...</td>\n",
       "      <td>...</td>\n",
       "      <td>...</td>\n",
       "      <td>...</td>\n",
       "      <td>...</td>\n",
       "      <td>...</td>\n",
       "      <td>...</td>\n",
       "      <td>...</td>\n",
       "      <td>...</td>\n",
       "      <td>...</td>\n",
       "      <td>...</td>\n",
       "    </tr>\n",
       "    <tr>\n",
       "      <th>3905</th>\n",
       "      <td>0.00</td>\n",
       "      <td>0.00</td>\n",
       "      <td>0.00</td>\n",
       "      <td>0.00</td>\n",
       "      <td>0.00</td>\n",
       "      <td>0.00</td>\n",
       "      <td>0.00</td>\n",
       "      <td>0.00</td>\n",
       "      <td>0.00</td>\n",
       "      <td>0.00</td>\n",
       "      <td>...</td>\n",
       "      <td>0.0</td>\n",
       "      <td>0.000</td>\n",
       "      <td>0.0</td>\n",
       "      <td>0.000</td>\n",
       "      <td>0.000</td>\n",
       "      <td>0.000</td>\n",
       "      <td>1.714</td>\n",
       "      <td>4</td>\n",
       "      <td>12</td>\n",
       "      <td>0</td>\n",
       "    </tr>\n",
       "    <tr>\n",
       "      <th>3906</th>\n",
       "      <td>0.00</td>\n",
       "      <td>0.00</td>\n",
       "      <td>0.00</td>\n",
       "      <td>0.00</td>\n",
       "      <td>0.00</td>\n",
       "      <td>0.00</td>\n",
       "      <td>0.00</td>\n",
       "      <td>0.00</td>\n",
       "      <td>0.00</td>\n",
       "      <td>0.00</td>\n",
       "      <td>...</td>\n",
       "      <td>0.0</td>\n",
       "      <td>0.000</td>\n",
       "      <td>0.0</td>\n",
       "      <td>0.000</td>\n",
       "      <td>0.000</td>\n",
       "      <td>0.000</td>\n",
       "      <td>2.000</td>\n",
       "      <td>3</td>\n",
       "      <td>4</td>\n",
       "      <td>0</td>\n",
       "    </tr>\n",
       "    <tr>\n",
       "      <th>3907</th>\n",
       "      <td>0.12</td>\n",
       "      <td>0.00</td>\n",
       "      <td>0.12</td>\n",
       "      <td>0.00</td>\n",
       "      <td>0.00</td>\n",
       "      <td>0.25</td>\n",
       "      <td>0.00</td>\n",
       "      <td>0.00</td>\n",
       "      <td>0.00</td>\n",
       "      <td>0.00</td>\n",
       "      <td>...</td>\n",
       "      <td>0.0</td>\n",
       "      <td>0.093</td>\n",
       "      <td>0.0</td>\n",
       "      <td>0.023</td>\n",
       "      <td>0.000</td>\n",
       "      <td>0.000</td>\n",
       "      <td>1.247</td>\n",
       "      <td>5</td>\n",
       "      <td>131</td>\n",
       "      <td>0</td>\n",
       "    </tr>\n",
       "    <tr>\n",
       "      <th>3908</th>\n",
       "      <td>0.00</td>\n",
       "      <td>0.00</td>\n",
       "      <td>0.00</td>\n",
       "      <td>0.00</td>\n",
       "      <td>0.00</td>\n",
       "      <td>0.00</td>\n",
       "      <td>0.00</td>\n",
       "      <td>3.12</td>\n",
       "      <td>0.00</td>\n",
       "      <td>0.00</td>\n",
       "      <td>...</td>\n",
       "      <td>0.0</td>\n",
       "      <td>0.198</td>\n",
       "      <td>0.0</td>\n",
       "      <td>0.198</td>\n",
       "      <td>0.198</td>\n",
       "      <td>0.000</td>\n",
       "      <td>3.857</td>\n",
       "      <td>25</td>\n",
       "      <td>81</td>\n",
       "      <td>1</td>\n",
       "    </tr>\n",
       "    <tr>\n",
       "      <th>3909</th>\n",
       "      <td>0.96</td>\n",
       "      <td>0.00</td>\n",
       "      <td>0.48</td>\n",
       "      <td>0.00</td>\n",
       "      <td>0.00</td>\n",
       "      <td>0.96</td>\n",
       "      <td>0.00</td>\n",
       "      <td>0.00</td>\n",
       "      <td>0.48</td>\n",
       "      <td>0.00</td>\n",
       "      <td>...</td>\n",
       "      <td>0.0</td>\n",
       "      <td>0.818</td>\n",
       "      <td>0.0</td>\n",
       "      <td>0.175</td>\n",
       "      <td>0.467</td>\n",
       "      <td>0.116</td>\n",
       "      <td>9.560</td>\n",
       "      <td>259</td>\n",
       "      <td>717</td>\n",
       "      <td>1</td>\n",
       "    </tr>\n",
       "  </tbody>\n",
       "</table>\n",
       "<p>3910 rows × 58 columns</p>\n",
       "</div>"
      ],
      "text/plain": [
       "        X1    X2    X3     X4    X5    X6    X7    X8    X9   X10  ...  X49  \\\n",
       "0     0.00  0.00  4.34   0.00  0.00  0.00  0.00  0.00  0.00  0.00  ...  0.0   \n",
       "1     0.00  0.56  0.56   0.00  1.12  0.56  2.25  0.00  0.00  0.56  ...  0.0   \n",
       "2     0.00  0.00  0.00   0.00  0.00  0.00  0.00  0.00  0.00  0.00  ...  0.0   \n",
       "3     0.64  0.00  0.64   0.00  1.93  0.00  0.00  0.00  0.00  0.00  ...  0.0   \n",
       "4     0.58  0.00  0.00  35.46  0.58  0.00  0.58  0.58  0.00  0.00  ...  0.0   \n",
       "...    ...   ...   ...    ...   ...   ...   ...   ...   ...   ...  ...  ...   \n",
       "3905  0.00  0.00  0.00   0.00  0.00  0.00  0.00  0.00  0.00  0.00  ...  0.0   \n",
       "3906  0.00  0.00  0.00   0.00  0.00  0.00  0.00  0.00  0.00  0.00  ...  0.0   \n",
       "3907  0.12  0.00  0.12   0.00  0.00  0.25  0.00  0.00  0.00  0.00  ...  0.0   \n",
       "3908  0.00  0.00  0.00   0.00  0.00  0.00  0.00  3.12  0.00  0.00  ...  0.0   \n",
       "3909  0.96  0.00  0.48   0.00  0.00  0.96  0.00  0.00  0.48  0.00  ...  0.0   \n",
       "\n",
       "        X50  X51    X52    X53    X54     X55  X56  X57  Y  \n",
       "0     0.000  0.0  1.342  0.000  0.000   1.200    2   12  0  \n",
       "1     0.083  0.0  0.503  0.000  0.083  16.304  148  375  1  \n",
       "2     0.000  0.0  0.000  0.000  0.000   1.000    1    5  0  \n",
       "3     0.000  0.0  0.462  0.370  0.000   2.440   22  122  1  \n",
       "4     0.000  0.0  0.239  0.239  0.000   3.338  123  207  1  \n",
       "...     ...  ...    ...    ...    ...     ...  ...  ... ..  \n",
       "3905  0.000  0.0  0.000  0.000  0.000   1.714    4   12  0  \n",
       "3906  0.000  0.0  0.000  0.000  0.000   2.000    3    4  0  \n",
       "3907  0.093  0.0  0.023  0.000  0.000   1.247    5  131  0  \n",
       "3908  0.198  0.0  0.198  0.198  0.000   3.857   25   81  1  \n",
       "3909  0.818  0.0  0.175  0.467  0.116   9.560  259  717  1  \n",
       "\n",
       "[3910 rows x 58 columns]"
      ]
     },
     "execution_count": 11,
     "metadata": {},
     "output_type": "execute_result"
    }
   ],
   "source": [
    "df_train"
   ]
  },
  {
   "cell_type": "code",
   "execution_count": 12,
   "id": "3caf0420",
   "metadata": {},
   "outputs": [],
   "source": [
    "X = df_train.iloc[:,0: -1]\n",
    "y= df_train['Y']"
   ]
  },
  {
   "cell_type": "code",
   "execution_count": 13,
   "id": "94533f67",
   "metadata": {},
   "outputs": [],
   "source": [
    "importance = mutual_info_classif(X,y)\n",
    "feat_importance = pd.Series(importance, index=df_train.columns[0:-1])"
   ]
  },
  {
   "cell_type": "code",
   "execution_count": 14,
   "id": "68a3bb26",
   "metadata": {},
   "outputs": [
    {
     "data": {
      "image/png": "[encoded data removed]",
      "text/plain": [
       "<Figure size 720x1080 with 1 Axes>"
      ]
     },
     "metadata": {
      "needs_background": "light"
     },
     "output_type": "display_data"
    }
   ],
   "source": [
    "feat_importance.sort_values().plot(kind='barh', color=sns.xkcd_rgb['blue'], figsize=[10,15])\n",
    "plt.style.use('dark_background')\n",
    "plt.axis('off')\n",
    "plt.grid(b=None)\n",
    "plt.show()"
   ]
  },
  {
   "cell_type": "code",
   "execution_count": 15,
   "id": "0417aaa5",
   "metadata": {},
   "outputs": [],
   "source": [
    "feature_set = feat_importance[feat_importance > 0.05].index.to_list()"
   ]
  },
  {
   "cell_type": "code",
   "execution_count": 16,
   "id": "5be7ee52",
   "metadata": {},
   "outputs": [
    {
     "data": {
      "text/plain": [
       "26"
      ]
     },
     "execution_count": 16,
     "metadata": {},
     "output_type": "execute_result"
    }
   ],
   "source": [
    "len(feature_set)"
   ]
  },
  {
   "cell_type": "markdown",
   "id": "7a9e5a44",
   "metadata": {},
   "source": [
    "-Splittig the Dtrain data set in the ration of 4:1"
   ]
  },
  {
   "cell_type": "code",
   "execution_count": 17,
   "id": "d436a579",
   "metadata": {},
   "outputs": [],
   "source": [
    "X_train, X_test, y_train, y_test = train_test_split(X, y, test_size=0.2, stratify=y, random_state=42)"
   ]
  },
  {
   "cell_type": "code",
   "execution_count": 18,
   "id": "7e08b91a",
   "metadata": {},
   "outputs": [],
   "source": [
    "clf = RandomForestClassifier(100, max_depth=None, n_jobs=-1)\n",
    "clf.fit(X_train,y_train)\n",
    "feature_importance = clf.feature_importances_"
   ]
  },
  {
   "cell_type": "code",
   "execution_count": 19,
   "id": "9b29d6ef",
   "metadata": {},
   "outputs": [
    {
     "data": {
      "image/png": "[encoded data removed]",
      "text/plain": [
       "<Figure size 432x288 with 1 Axes>"
      ]
     },
     "metadata": {},
     "output_type": "display_data"
    }
   ],
   "source": [
    "x = [x for x in range(X_train.shape[1])]\n",
    "plt.plot(x,feature_importance)\n",
    "plt.xlabel(\"Features\")\n",
    "plt.ylabel(\"FI\")\n",
    "plt.title(\"Feature Importances\")\n",
    "plt.show()"
   ]
  },
  {
   "cell_type": "code",
   "execution_count": 20,
   "id": "20b48296",
   "metadata": {},
   "outputs": [
    {
     "name": "stdout",
     "output_type": "stream",
     "text": [
      "Total features having feature importance greater than average are 15\n"
     ]
    }
   ],
   "source": [
    "# Finding total features having greater feature importance than average\n",
    "mean_fi = np.mean(feature_importance)\n",
    "top_fi = len(np.where(feature_importance > mean_fi)[0])\n",
    "print(f'Total features having feature importance greater than average are {top_fi}')"
   ]
  },
  {
   "cell_type": "code",
   "execution_count": 21,
   "id": "ea0c33f1",
   "metadata": {},
   "outputs": [
    {
     "data": {
      "image/png": "[encoded data removed]",
      "text/plain": [
       "<Figure size 432x288 with 1 Axes>"
      ]
     },
     "metadata": {},
     "output_type": "display_data"
    }
   ],
   "source": [
    "# CDF Plot of Feature Importance\n",
    "plt.plot(np.cumsum(sorted(feature_importance,reverse=True)))\n",
    "plt.title('CDF of Feature Importance')\n",
    "plt.xlabel('Features')\n",
    "plt.ylabel('Feature Importance');"
   ]
  },
  {
   "cell_type": "code",
   "execution_count": 22,
   "id": "dba2fd7e",
   "metadata": {},
   "outputs": [],
   "source": [
    "# Ranking the features with their respect to feature importances\n",
    "fi = sorted(zip(X.columns,feature_importance),key=lambda x: x[1], reverse=True)\n",
    "# Extracting Top 30 features\n",
    "top_features = [x[0] for x in fi[:30]]"
   ]
  },
  {
   "cell_type": "code",
   "execution_count": 23,
   "id": "2608c434",
   "metadata": {},
   "outputs": [],
   "source": [
    "# Selecting the top features from data\n",
    "X_train_dash = X_train[top_features]\n",
    "X_test_dash = X_test[top_features]"
   ]
  },
  {
   "cell_type": "code",
   "execution_count": 24,
   "id": "aee83ee4",
   "metadata": {},
   "outputs": [
    {
     "data": {
      "text/plain": [
       "(3128, 30)"
      ]
     },
     "execution_count": 24,
     "metadata": {},
     "output_type": "execute_result"
    }
   ],
   "source": [
    "# Checking the shape of X_train_dash\n",
    "X_train_dash.shape"
   ]
  },
  {
   "cell_type": "code",
   "execution_count": 25,
   "id": "c366e57c",
   "metadata": {},
   "outputs": [
    {
     "data": {
      "text/plain": [
       "(782, 30)"
      ]
     },
     "execution_count": 25,
     "metadata": {},
     "output_type": "execute_result"
    }
   ],
   "source": [
    "# Checking the shape of X_test_dash\n",
    "X_test_dash.shape"
   ]
  },
  {
   "cell_type": "raw",
   "id": "a478000d",
   "metadata": {},
   "source": [
    "Normalizing our data"
   ]
  },
  {
   "cell_type": "code",
   "execution_count": 26,
   "id": "1206a0da",
   "metadata": {},
   "outputs": [],
   "source": [
    "# Using StandardScaler to normalize our data\n",
    "scaler = StandardScaler()\n",
    "scaler.fit(X_train_dash)\n",
    "\n",
    "# transform\n",
    "X_train_dash = pd.DataFrame(scaler.transform(X_train_dash),columns=X_train_dash.columns)\n",
    "X_test_dash = pd.DataFrame(scaler.transform(X_test_dash),columns=X_test_dash.columns)"
   ]
  },
  {
   "cell_type": "code",
   "execution_count": 27,
   "id": "c2db36d4",
   "metadata": {},
   "outputs": [],
   "source": [
    "#Here we are trying the different model to check the train test logg loss "
   ]
  },
  {
   "cell_type": "raw",
   "id": "777aef0a",
   "metadata": {},
   "source": [
    "Random Model"
   ]
  },
  {
   "cell_type": "code",
   "execution_count": 28,
   "id": "d7ac6f95",
   "metadata": {},
   "outputs": [],
   "source": [
    "y_train_prob = np.random.rand(len(X_train_dash))\n",
    "y_test_prob = np.random.rand(len(X_test_dash))"
   ]
  },
  {
   "cell_type": "code",
   "execution_count": 29,
   "id": "2a59daab",
   "metadata": {},
   "outputs": [
    {
     "name": "stdout",
     "output_type": "stream",
     "text": [
      "Train Logloss for the model -> 1.0062308522846004\n",
      "Test Logloss for the model -> 0.9894387008863481\n",
      "--------------------------------------------------\n",
      "Train AUC Score for the model -> 0.4975577989022206\n",
      "Test AUC Score for the model -> 0.5193073889936568\n"
     ]
    }
   ],
   "source": [
    "# Calculating logloss score for our model\n",
    "print(f'Train Logloss for the model -> {log_loss(y_train,y_train_prob)}')\n",
    "print(f'Test Logloss for the model -> {log_loss(y_test,y_test_prob)}')\n",
    "\n",
    "print('-'*50)\n",
    "# Calculating the AUC score for our model\n",
    "print(f'Train AUC Score for the model -> {roc_auc_score(y_train, y_train_prob)}')\n",
    "print(f'Test AUC Score for the model -> {roc_auc_score(y_test, y_test_prob)}')"
   ]
  },
  {
   "cell_type": "raw",
   "id": "d3afb53e",
   "metadata": {},
   "source": [
    "KNN\n"
   ]
  },
  {
   "cell_type": "code",
   "execution_count": 30,
   "id": "548d29c5",
   "metadata": {},
   "outputs": [
    {
     "data": {
      "text/plain": [
       "GridSearchCV(cv=10, estimator=KNeighborsClassifier(), n_jobs=-1,\n",
       "             param_grid={'n_neighbors': [3, 5, 11, 15, 25, 51, 75]},\n",
       "             return_train_score=True, scoring='roc_auc')"
      ]
     },
     "execution_count": 30,
     "metadata": {},
     "output_type": "execute_result"
    }
   ],
   "source": [
    "estimator = KNeighborsClassifier()\n",
    "parameters = {'n_neighbors':[3,5,11,15,25,51,75]}\n",
    "\n",
    "# Performing GridSearchCV\n",
    "clf = GridSearchCV(estimator, parameters, cv=10, n_jobs=-1, scoring='roc_auc', return_train_score=True)\n",
    "clf.fit(X_train_dash, y_train)"
   ]
  },
  {
   "cell_type": "code",
   "execution_count": 31,
   "id": "5148c0b3",
   "metadata": {},
   "outputs": [
    {
     "data": {
      "image/png": "[encoded data removed]",
      "text/plain": [
       "<Figure size 432x288 with 1 Axes>"
      ]
     },
     "metadata": {},
     "output_type": "display_data"
    }
   ],
   "source": [
    "# Storing all the results of GridSearchCV in a DataFrame\n",
    "results = pd.DataFrame.from_dict(clf.cv_results_)\n",
    "#results.head()\n",
    "\n",
    "x = list(results['param_n_neighbors'].values)\n",
    "y1 = results['mean_train_score'].values\n",
    "y2 = results['mean_test_score'].values\n",
    "\n",
    "plt.plot(x, y1, label='Train')\n",
    "plt.plot(x, y2, label='CV')\n",
    "plt.legend()\n",
    "plt.xlabel('NN {Hyperparameter}')\n",
    "plt.ylabel('AUC Score')\n",
    "plt.title('Performance of model on train & cv data');"
   ]
  },
  {
   "cell_type": "code",
   "execution_count": 32,
   "id": "18138e05",
   "metadata": {},
   "outputs": [
    {
     "name": "stdout",
     "output_type": "stream",
     "text": [
      "Train Logloss for the model -> 0.2437244023785907\n",
      "Test Logloss for the model -> 0.3308426046101558\n",
      "--------------------------------------------------\n",
      "Train AUC Score for the model -> 0.9649530316262148\n",
      "Test AUC Score for the model -> 0.9468061032058974\n"
     ]
    }
   ],
   "source": [
    "# Using 30-NN for predictions\n",
    "classifier = KNeighborsClassifier(n_neighbors=30) \n",
    "classifier.fit(X_train_dash, y_train)\n",
    "\n",
    "y_train_pred = classifier.predict(X_train_dash)\n",
    "y_train_prob = classifier.predict_proba(X_train_dash)[:,1]\n",
    "y_test_pred = classifier.predict(X_test_dash)\n",
    "y_test_prob = classifier.predict_proba(X_test_dash)[:,1]\n",
    "\n",
    "\n",
    "# Calculating logloss score for our model\n",
    "print(f'Train Logloss for the model -> {log_loss(y_train,y_train_prob)}')\n",
    "print(f'Test Logloss for the model -> {log_loss(y_test,y_test_prob)}')\n",
    "\n",
    "print('-'*50)\n",
    "# Calculating the AUC score for our model\n",
    "print(f'Train AUC Score for the model -> {roc_auc_score(y_train, y_train_prob)}')\n",
    "print(f'Test AUC Score for the model -> {roc_auc_score(y_test, y_test_prob)}')\n"
   ]
  },
  {
   "cell_type": "raw",
   "id": "d84d3ffb",
   "metadata": {},
   "source": [
    "Naive Bayes"
   ]
  },
  {
   "cell_type": "code",
   "execution_count": 33,
   "id": "38f0b2d8",
   "metadata": {},
   "outputs": [
    {
     "name": "stdout",
     "output_type": "stream",
     "text": [
      "Train Logloss for the model -> 1.3496150846468156\n",
      "Test Logloss for the model -> 1.733101124459516\n",
      "--------------------------------------------------\n",
      "Train AUC Score for the model -> 0.9598403362533424\n",
      "Test AUC Score for the model -> 0.9405177438710783\n"
     ]
    }
   ],
   "source": [
    "# Using Gaussian Naive Bayes\n",
    "classifier = GaussianNB()\n",
    "classifier.fit(X_train_dash, y_train)\n",
    "\n",
    "y_train_pred = classifier.predict(X_train_dash)\n",
    "y_train_prob = classifier.predict_proba(X_train_dash)[:,1]\n",
    "y_test_pred = classifier.predict(X_test_dash)\n",
    "y_test_prob = classifier.predict_proba(X_test_dash)[:,1]\n",
    "\n",
    "\n",
    "# Calculating logloss score for our model\n",
    "print(f'Train Logloss for the model -> {log_loss(y_train,y_train_prob)}')\n",
    "print(f'Test Logloss for the model -> {log_loss(y_test,y_test_prob)}')\n",
    "\n",
    "print('-'*50)\n",
    "# Calculating the AUC score for our model\n",
    "print(f'Train AUC Score for the model -> {roc_auc_score(y_train, y_train_prob)}')\n",
    "print(f'Test AUC Score for the model -> {roc_auc_score(y_test, y_test_prob)}')"
   ]
  },
  {
   "cell_type": "raw",
   "id": "5fe8c56c",
   "metadata": {},
   "source": [
    "Logistic Regression"
   ]
  },
  {
   "cell_type": "code",
   "execution_count": 34,
   "id": "b735d9a1",
   "metadata": {},
   "outputs": [
    {
     "data": {
      "text/plain": [
       "GridSearchCV(cv=10, estimator=LogisticRegression(max_iter=250, random_state=42),\n",
       "             n_jobs=-1,\n",
       "             param_grid={'C': [0.0001, 0.001, 0.01, 0.1, 1.0, 10.0, 100.0,\n",
       "                               1000.0, 10000.0]},\n",
       "             return_train_score=True, scoring='neg_log_loss')"
      ]
     },
     "execution_count": 34,
     "metadata": {},
     "output_type": "execute_result"
    }
   ],
   "source": [
    "# Using l2 norm\n",
    "estimator = LogisticRegression(penalty='l2', max_iter=250, random_state=42)\n",
    "parameters = {'C':[1e-4,1e-3,1e-2,1e-1,1e0,1e1,1e2,1e3,1e4]}\n",
    "\n",
    "# Performing GridSearchCV\n",
    "clf = GridSearchCV(estimator, parameters, cv=10, n_jobs=-1, scoring='neg_log_loss', return_train_score=True)\n",
    "clf.fit(X_train_dash, y_train)"
   ]
  },
  {
   "cell_type": "code",
   "execution_count": 35,
   "id": "57fb3904",
   "metadata": {},
   "outputs": [
    {
     "data": {
      "image/png": "[encoded data removed]",
      "text/plain": [
       "<Figure size 432x288 with 1 Axes>"
      ]
     },
     "metadata": {},
     "output_type": "display_data"
    }
   ],
   "source": [
    "# Storing all the results of GridSearchCV in a DataFrame\n",
    "results = pd.DataFrame.from_dict(clf.cv_results_)\n",
    "#results.head()\n",
    "\n",
    "x = list(map(str,results['param_C'].values))\n",
    "y1 = results['mean_train_score'].values\n",
    "y2 = results['mean_test_score'].values\n",
    "\n",
    "plt.plot(x, y1, label='Train')\n",
    "plt.plot(x, y2, label='CV')\n",
    "plt.legend()\n",
    "plt.xlabel('C {Hyperparameter}')\n",
    "plt.ylabel('Logloss Score')\n",
    "plt.title('Performance of model on train & cv data');"
   ]
  },
  {
   "cell_type": "code",
   "execution_count": 36,
   "id": "6e9e3fa5",
   "metadata": {},
   "outputs": [
    {
     "name": "stdout",
     "output_type": "stream",
     "text": [
      "Train Logloss for the model -> 0.21237818513536336\n",
      "Test Logloss for the model -> 0.3348204877090184\n",
      "--------------------------------------------------\n",
      "Train AUC Score for the model -> 0.9731317150883998\n",
      "Test AUC Score for the model -> 0.9584707697582717\n"
     ]
    }
   ],
   "source": [
    "# Using Logistic Regression with l2 norm\n",
    "classifier = LogisticRegression(C=1, penalty='l2', max_iter=250, random_state=42)\n",
    "classifier.fit(X_train_dash, y_train)\n",
    "\n",
    "y_train_pred = classifier.predict(X_train_dash)\n",
    "y_train_prob = classifier.predict_proba(X_train_dash)[:,1]\n",
    "y_test_pred = classifier.predict(X_test_dash)\n",
    "y_test_prob = classifier.predict_proba(X_test_dash)[:,1]\n",
    "\n",
    "\n",
    "# Calculating logloss score for our model\n",
    "print(f'Train Logloss for the model -> {log_loss(y_train,y_train_prob)}')\n",
    "print(f'Test Logloss for the model -> {log_loss(y_test,y_test_prob)}')\n",
    "\n",
    "print('-'*50)\n",
    "# Calculating the AUC score for our model\n",
    "print(f'Train AUC Score for the model -> {roc_auc_score(y_train, y_train_prob)}')\n",
    "print(f'Test AUC Score for the model -> {roc_auc_score(y_test, y_test_prob)}')"
   ]
  },
  {
   "cell_type": "raw",
   "id": "b15d9ab1",
   "metadata": {},
   "source": [
    "Decision Tree"
   ]
  },
  {
   "cell_type": "code",
   "execution_count": 37,
   "id": "309cca57",
   "metadata": {},
   "outputs": [
    {
     "name": "stdout",
     "output_type": "stream",
     "text": [
      "Train Logloss for the model -> 0.006204642281228122\n",
      "Test Logloss for the model -> 2.968986476937994\n",
      "--------------------------------------------------\n",
      "Train AUC Score for the model -> 0.9999579854809827\n",
      "Test AUC Score for the model -> 0.9073615635179153\n"
     ]
    }
   ],
   "source": [
    "# Using Decision Tree\n",
    "classifier = DecisionTreeClassifier(criterion='gini',min_samples_split=3,random_state=42)\n",
    "classifier.fit(X_train_dash, y_train)\n",
    "\n",
    "y_train_pred = classifier.predict(X_train_dash)\n",
    "y_train_prob = classifier.predict_proba(X_train_dash)[:,1]\n",
    "y_test_pred = classifier.predict(X_test_dash)\n",
    "y_test_prob = classifier.predict_proba(X_test_dash)[:,1]\n",
    "\n",
    "\n",
    "# Calculating logloss score for our model\n",
    "print(f'Train Logloss for the model -> {log_loss(y_train,y_train_prob)}')\n",
    "print(f'Test Logloss for the model -> {log_loss(y_test,y_test_prob)}')\n",
    "\n",
    "print('-'*50)\n",
    "# Calculating the AUC score for our model\n",
    "print(f'Train AUC Score for the model -> {roc_auc_score(y_train, y_train_prob)}')\n",
    "print(f'Test AUC Score for the model -> {roc_auc_score(y_test, y_test_prob)}')"
   ]
  },
  {
   "cell_type": "raw",
   "id": "2b423d3d",
   "metadata": {},
   "source": [
    "Random Forest"
   ]
  },
  {
   "cell_type": "code",
   "execution_count": 38,
   "id": "e42a6f91",
   "metadata": {},
   "outputs": [
    {
     "name": "stdout",
     "output_type": "stream",
     "text": [
      "Train Logloss for the model -> 0.04344247323063367\n",
      "Test Logloss for the model -> 0.14434748671891243\n",
      "--------------------------------------------------\n",
      "Train AUC Score for the model -> 0.9999991425608363\n",
      "Test AUC Score for the model -> 0.9929333104748843\n"
     ]
    }
   ],
   "source": [
    "# Using Random Forest\n",
    "classifier = RandomForestClassifier(n_estimators=500,\n",
    "                                      max_depth=None,\n",
    "                                      min_samples_split=2,\n",
    "                                      n_jobs=-1,\n",
    "                                      class_weight='balanced',\n",
    "                                      random_state=42)\n",
    "classifier.fit(X_train_dash, y_train)\n",
    "\n",
    "y_train_pred = classifier.predict(X_train_dash)\n",
    "y_train_prob = classifier.predict_proba(X_train_dash)[:,1]\n",
    "y_test_pred = classifier.predict(X_test_dash)\n",
    "y_test_prob = classifier.predict_proba(X_test_dash)[:,1]\n",
    "\n",
    "\n",
    "# Calculating logloss score for our model\n",
    "print(f'Train Logloss for the model -> {log_loss(y_train,y_train_prob)}')\n",
    "print(f'Test Logloss for the model -> {log_loss(y_test,y_test_prob)}')\n",
    "\n",
    "print('-'*50)\n",
    "# Calculating the AUC score for our model\n",
    "print(f'Train AUC Score for the model -> {roc_auc_score(y_train, y_train_prob)}')\n",
    "print(f'Test AUC Score for the model -> {roc_auc_score(y_test, y_test_prob)}')"
   ]
  },
  {
   "cell_type": "raw",
   "id": "55932792",
   "metadata": {},
   "source": [
    "Xgboost"
   ]
  },
  {
   "cell_type": "code",
   "execution_count": 39,
   "id": "d43409bf",
   "metadata": {},
   "outputs": [
    {
     "name": "stdout",
     "output_type": "stream",
     "text": [
      "Train Logloss for the model -> 0.14307064304510583\n",
      "Test Logloss for the model -> 0.15659173917563637\n",
      "--------------------------------------------------\n",
      "Train AUC Score for the model -> 0.988952325096344\n",
      "Test AUC Score for the model -> 0.9873889936567805\n"
     ]
    }
   ],
   "source": [
    "# Using Xgboost\n",
    "classifier = XGBClassifier(n_estimators=500,\n",
    "                           max_depth=5,\n",
    "                           learning_rate=0.15,\n",
    "                           colsample_bytree=1,\n",
    "                           subsample=1,\n",
    "                           reg_alpha = 0.3,\n",
    "                           gamma=10,\n",
    "                           n_jobs=-1,\n",
    "                           eval_metric='logloss',\n",
    "                           use_label_encoder=False)\n",
    "\n",
    "classifier.fit(X_train_dash, y_train)\n",
    "\n",
    "y_train_pred = classifier.predict(X_train_dash)\n",
    "y_train_prob = classifier.predict_proba(X_train_dash)[:,1]\n",
    "y_test_pred = classifier.predict(X_test_dash)\n",
    "y_test_prob = classifier.predict_proba(X_test_dash)[:,1]\n",
    "\n",
    "\n",
    "# Calculating logloss score for our model\n",
    "print(f'Train Logloss for the model -> {log_loss(y_train,y_train_prob)}')\n",
    "print(f'Test Logloss for the model -> {log_loss(y_test,y_test_prob)}')\n",
    "\n",
    "print('-'*50)\n",
    "# Calculating the AUC score for our model\n",
    "print(f'Train AUC Score for the model -> {roc_auc_score(y_train, y_train_prob)}')\n",
    "print(f'Test AUC Score for the model -> {roc_auc_score(y_test, y_test_prob)}')"
   ]
  },
  {
   "cell_type": "markdown",
   "id": "6bb736be",
   "metadata": {},
   "source": [
    "- Here we are going with the XGBoost because it shows very less log loss values "
   ]
  }
 ],
 "metadata": {
  "kernelspec": {
   "display_name": "Python 3",
   "language": "python",
   "name": "python3"
  },
  "language_info": {
   "codemirror_mode": {
    "name": "ipython",
    "version": 3
   },
   "file_extension": ".py",
   "mimetype": "text/x-python",
   "name": "python",
   "nbconvert_exporter": "python",
   "pygments_lexer": "ipython3",
   "version": "3.8.8"
  }
 },
 "nbformat": 4,
 "nbformat_minor": 5
}
